{
 "cells": [
  {
   "cell_type": "markdown",
   "id": "4484ce3d",
   "metadata": {},
   "source": [
    "#Question 1"
   ]
  },
  {
   "cell_type": "code",
   "execution_count": 1,
   "id": "bc8bb7b4",
   "metadata": {},
   "outputs": [
    {
     "name": "stdout",
     "output_type": "stream",
     "text": [
      "a= 1\n",
      "b= 4\n",
      "c= 4\n"
     ]
    },
    {
     "data": {
      "text/plain": [
       "4"
      ]
     },
     "execution_count": 1,
     "metadata": {},
     "output_type": "execute_result"
    }
   ],
   "source": [
    "def max(a,b,c):\n",
    "    if a > b and a > c :\n",
    "        return a\n",
    "    elif b > a and b > c:\n",
    "        return b\n",
    "    else:\n",
    "        return c\n",
    "a =int(input (\"a= \"))\n",
    "b =int(input (\"b= \"))\n",
    "c =int(input (\"c= \"))\n",
    "max(a,b,c)"
   ]
  },
  {
   "cell_type": "code",
   "execution_count": 2,
   "id": "14c4aecf",
   "metadata": {},
   "outputs": [
    {
     "name": "stdout",
     "output_type": "stream",
     "text": [
      "a= 1\n"
     ]
    }
   ],
   "source": [
    "#test\n",
    "a =int(input (\"a= \"))"
   ]
  },
  {
   "cell_type": "markdown",
   "id": "d122ee65",
   "metadata": {},
   "source": [
    "#Question 2"
   ]
  },
  {
   "cell_type": "code",
   "execution_count": 1,
   "id": "6a722599",
   "metadata": {},
   "outputs": [
    {
     "name": "stdout",
     "output_type": "stream",
     "text": [
      "a= 3\n",
      "b= 2\n",
      "5 , 1\n"
     ]
    }
   ],
   "source": [
    "def calculation(a,b):\n",
    "    res1=(a + b)\n",
    "    res2=(a - b)\n",
    "    print (res1,\",\",res2)\n",
    "    \n",
    "a =int(input (\"a= \"))\n",
    "b =int(input (\"b= \"))  \n",
    "\n",
    "\n",
    "calculation(a,b)\n"
   ]
  },
  {
   "cell_type": "markdown",
   "id": "c47a9789",
   "metadata": {},
   "source": [
    "#Question 3"
   ]
  },
  {
   "cell_type": "code",
   "execution_count": 2,
   "id": "9d2f3c4c",
   "metadata": {},
   "outputs": [
    {
     "name": "stdout",
     "output_type": "stream",
     "text": [
      "12\n",
      "90\n"
     ]
    }
   ],
   "source": [
    "def sumList(myList) :\n",
    "     \n",
    "    \n",
    "    result = 0\n",
    "    for x in myList:\n",
    "         result = result + x\n",
    "    return result\n",
    "\n",
    "list1 =[6, 3, 3]\n",
    "list2 =[10, 20, 60]\n",
    "print(sumList(list1))\n",
    "print(sumList(list2))\n",
    "\n"
   ]
  },
  {
   "cell_type": "code",
   "execution_count": 60,
   "id": "a0e95c4f",
   "metadata": {},
   "outputs": [
    {
     "name": "stdout",
     "output_type": "stream",
     "text": [
      "54\n",
      "12000\n"
     ]
    }
   ],
   "source": [
    "def multiplyList(myList) :\n",
    "     \n",
    "    \n",
    "    result = 1\n",
    "    for x in myList:\n",
    "         result = result * x\n",
    "    return result\n",
    "\n",
    "list1 =[6, 3, 3]\n",
    "list2 =[10, 20, 60]\n",
    "print(multiplyList(list1))\n",
    "print(multiplyList(list2))"
   ]
  },
  {
   "cell_type": "code",
   "execution_count": 48,
   "id": "4b17405a",
   "metadata": {},
   "outputs": [],
   "source": [
    "#def res(mylist):\n",
    "        \n",
    "    #if (sumList % 2 == 0 and multiplyList % 2 == 0 ):\n",
    "        #print(sumList(res(list1)) + multiplyList(res(list1)) )\n",
    "    #else:\n",
    "        #print(sumList(res(list1)) * multiplyList(res(list1)))\n",
    "        \n"
   ]
  },
  {
   "cell_type": "code",
   "execution_count": 93,
   "id": "1a2715d1",
   "metadata": {},
   "outputs": [],
   "source": [
    "#def res1(mylist):\n",
    "##    l1=[]\n",
    "##    l2=[]\n",
    "\n",
    "#    if (sumList % 2 == 0):\n",
    "#        l1.insert(sumList)\n",
    "#    else:\n",
    "#        l2.insert(sumList)\n",
    "        \n",
    "        \n",
    "#    l3=[]\n",
    "#    l4=[]\n",
    "#    if (multiplyList % 2 == 0):\n",
    "#        l3.insert(multiplyList)\n",
    "#    else:\n",
    "#        l4.insert(multiplyList)\n",
    "        \n",
    "        \n",
    "#    print (l1 + l3)\n",
    "#    print (l1 * l3)"
   ]
  },
  {
   "cell_type": "code",
   "execution_count": 107,
   "id": "81fc3330",
   "metadata": {},
   "outputs": [
    {
     "name": "stdout",
     "output_type": "stream",
     "text": [
      "[1, 2, 3, 1, 1, 22, 2, 5, 5, 4, 4]\n",
      "[1, 3, 1, 2, 5, 4]\n",
      "[2, 1, 22, 5, 4]\n"
     ]
    },
    {
     "data": {
      "text/plain": [
       "880"
      ]
     },
     "execution_count": 107,
     "metadata": {},
     "output_type": "execute_result"
    }
   ],
   "source": [
    "liste= [1,2,3,1,1,22,2,5,5,4,4]\n",
    "l0 = []\n",
    "l1 = []\n",
    "for i in range (len(liste)):\n",
    "    if i % 2 == 0:\n",
    "        l0.append(liste[i])\n",
    "    else:\n",
    "        l1.append(liste[i])\n",
    "print(liste)\n",
    "print(l0)\n",
    "print(l1)\n",
    "\n",
    "sumList(l0)\n",
    "multiplyList(l1)"
   ]
  },
  {
   "cell_type": "markdown",
   "id": "0af1bd2c",
   "metadata": {},
   "source": [
    "#Question 4"
   ]
  },
  {
   "cell_type": "code",
   "execution_count": 72,
   "id": "a0fa2500",
   "metadata": {},
   "outputs": [
    {
     "name": "stdout",
     "output_type": "stream",
     "text": [
      "Sample Items :green-red-yellow-black-white\n",
      "Expected Result :\n",
      "black-green-red-white-yellow\n"
     ]
    }
   ],
   "source": [
    "items=[n for n in input(\"Sample Items :\").split('-')]\n",
    "\n",
    "items.sort()\n",
    "print(\"Expected Result :\" )\n",
    "print('-'.join(items))"
   ]
  },
  {
   "cell_type": "code",
   "execution_count": 3,
   "id": "945c5826",
   "metadata": {},
   "outputs": [
    {
     "name": "stdout",
     "output_type": "stream",
     "text": [
      "Sample Items :black-green-red-white-yellow\n"
     ]
    }
   ],
   "source": [
    "items=[n for n in input(\"Sample Items :\").split('-')]\n",
    "print()"
   ]
  },
  {
   "cell_type": "markdown",
   "id": "ab05c065",
   "metadata": {},
   "source": [
    "#Question 5"
   ]
  },
  {
   "cell_type": "code",
   "execution_count": 10,
   "id": "314017ed",
   "metadata": {},
   "outputs": [
    {
     "name": "stdout",
     "output_type": "stream",
     "text": [
      "Provide D: 100,150,180\n",
      "18,22,24\n"
     ]
    }
   ],
   "source": [
    " \n",
    "    import math\n",
    "\n",
    "    numbers = input(\"Provide D: \")\n",
    "    numbers = numbers.split(',')\n",
    "    ch=\"\"\n",
    "\n",
    "    result_list = []\n",
    "    for D in numbers:\n",
    "        Q = round(math.sqrt(2 * 50 * int(D) / 30))\n",
    "        ch=ch+','+str(Q)\n",
    "    ch=ch[1:]\n",
    "    print(ch)\n",
    "    \n",
    "    \n"
   ]
  }
 ],
 "metadata": {
  "kernelspec": {
   "display_name": "Python 3",
   "language": "python",
   "name": "python3"
  },
  "language_info": {
   "codemirror_mode": {
    "name": "ipython",
    "version": 3
   },
   "file_extension": ".py",
   "mimetype": "text/x-python",
   "name": "python",
   "nbconvert_exporter": "python",
   "pygments_lexer": "ipython3",
   "version": "3.8.8"
  }
 },
 "nbformat": 4,
 "nbformat_minor": 5
}
